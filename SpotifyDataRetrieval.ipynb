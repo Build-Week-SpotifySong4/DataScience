{
  "nbformat": 4,
  "nbformat_minor": 0,
  "metadata": {
    "kernelspec": {
      "name": "python3",
      "display_name": "Python 3"
    },
    "language_info": {
      "codemirror_mode": {
        "name": "ipython",
        "version": 3
      },
      "file_extension": ".py",
      "mimetype": "text/x-python",
      "name": "python",
      "nbconvert_exporter": "python",
      "pygments_lexer": "ipython3",
      "version": "3.5.2"
    },
    "colab": {
      "name": "SpotifyDataRetrieval.ipynb",
      "provenance": [],
      "collapsed_sections": []
    },
    "accelerator": "GPU"
  },
  "cells": [
    {
      "cell_type": "markdown",
      "metadata": {
        "id": "URb4T-T3TX-A",
        "colab_type": "text"
      },
      "source": [
        "# Collecting Data from the Spotify Web API using Spotipy\n",
        "\n",
        "## About the Spotipy Library:\n",
        "\n",
        "From the [official Spotipy docs](https://spotipy.readthedocs.io/en/latest/): \n",
        ">\"Spotipy is a lightweight Python library for the Spotify Web API. With Spotipy you get full access to all of the music data provided by the Spotify platform.\"\n",
        "\n",
        "\n",
        "## About using the Spotify Web API:\n",
        "\n",
        "Spotify offers a number of [API endpoints](https://beta.developer.spotify.com/documentation/web-api/reference/) to access the Spotify data. In this notebook, I used the following:\n",
        "\n",
        "- [search endpoint](https://beta.developer.spotify.com/documentation/web-api/reference/search/search/) to get the track IDs \n",
        "- [audio features endpoint](https://beta.developer.spotify.com/documentation/web-api/reference/tracks/get-several-audio-features/) to get the corresponding audio features.\n",
        "\n",
        "The data was collected on several days during the months of April, May and August 2018.\n",
        "\n",
        "\n",
        "## Goal of this notebook:\n",
        "\n",
        "The goal is to show how to collect audio features data for tracks from the [official Spotify Web API](https://beta.developer.spotify.com/documentation/web-api/) in order to use it for further analysis/ machine learning which will be part of another notebook."
      ]
    },
    {
      "cell_type": "markdown",
      "metadata": {
        "id": "22tnXGmZTX-E",
        "colab_type": "text"
      },
      "source": [
        "# 1. Setting Up\n",
        "\n",
        "The below code is sufficient to set up Spotipy for querying the API endpoint. A more detailed explanation of the whole procedure is available in the [official docs](https://spotipy.readthedocs.io/en/latest/#installation)."
      ]
    },
    {
      "cell_type": "code",
      "metadata": {
        "id": "h0C7F9N90mDa",
        "colab_type": "code",
        "outputId": "4b4e3a54-c3e0-4e5f-cae6-c1da15a1d4e4",
        "colab": {
          "base_uri": "https://localhost:8080/"
        }
      },
      "source": [
        "!pip install spotipy"
      ],
      "execution_count": 0,
      "outputs": [
        {
          "output_type": "stream",
          "text": [
            "Collecting spotipy\n",
            "  Downloading https://files.pythonhosted.org/packages/d5/da/f6f71a33c99af2a22b3f885d290116d0e963afa095bf77aba4226f88a876/spotipy-2.9.0-py3-none-any.whl\n",
            "Requirement already satisfied: six>=1.10.0 in /usr/local/lib/python3.6/dist-packages (from spotipy) (1.12.0)\n",
            "Requirement already satisfied: requests>=2.20.0 in /usr/local/lib/python3.6/dist-packages (from spotipy) (2.21.0)\n",
            "Requirement already satisfied: chardet<3.1.0,>=3.0.2 in /usr/local/lib/python3.6/dist-packages (from requests>=2.20.0->spotipy) (3.0.4)\n",
            "Requirement already satisfied: urllib3<1.25,>=1.21.1 in /usr/local/lib/python3.6/dist-packages (from requests>=2.20.0->spotipy) (1.24.3)\n",
            "Requirement already satisfied: idna<2.9,>=2.5 in /usr/local/lib/python3.6/dist-packages (from requests>=2.20.0->spotipy) (2.8)\n",
            "Requirement already satisfied: certifi>=2017.4.17 in /usr/local/lib/python3.6/dist-packages (from requests>=2.20.0->spotipy) (2019.11.28)\n",
            "Installing collected packages: spotipy\n",
            "Successfully installed spotipy-2.9.0\n"
          ],
          "name": "stdout"
        }
      ]
    },
    {
      "cell_type": "code",
      "metadata": {
        "id": "EJfvfPpLTX-F",
        "colab_type": "code",
        "colab": {}
      },
      "source": [
        "import spotipy\n",
        "from spotipy.oauth2 import SpotifyClientCredentials\n",
        "\n",
        "cid =\"XXX\" # Client ID \n",
        "secret = \"XXX\" # Client Secret\n",
        "\n",
        "client_credentials_manager = SpotifyClientCredentials(client_id=cid, client_secret=secret)\n",
        "sp = spotipy.Spotify(client_credentials_manager=client_credentials_manager)"
      ],
      "execution_count": 0,
      "outputs": []
    },
    {
      "cell_type": "markdown",
      "metadata": {
        "id": "7_qq_6CpTX-J",
        "colab_type": "text"
      },
      "source": [
        "# 2. Get the Track ID Data\n",
        "\n",
        "The data collection is divided into 2 parts: the track IDs and the audio features. In this step, I'm going to collect 10.000 track IDs from the Spotify API.\n",
        "\n",
        "The [search endpoint](https://beta.developer.spotify.com/documentation/web-api/reference/search/search/) used in this step had a few limitations:\n",
        "\n",
        "- limit: a maximum of 50 results can be returned per query\n",
        "- offset: this is the index of the first result to return, so if you want to get the results with the index 50-100 you will need to set the offset to 50 etc.\n",
        "\n",
        "Spotify cut down the maximum offset to 10.000 (as of May 2018?), I was lucky enough to do my first collection attempt while it was still 100.000\n",
        "\n",
        "My solution: using a nested for loop, I increased the offset by 50 in the outer loop until the maxium limit/ offset was reached. The inner for loop did the actual querying and appending the returned results to appropriate lists which I used afterwards to create my dataframe."
      ]
    },
    {
      "cell_type": "code",
      "metadata": {
        "id": "SB-yXlt9TX-L",
        "colab_type": "code",
        "outputId": "295fd4a9-f37a-4399-d2bd-b5da647a8266",
        "colab": {
          "base_uri": "https://localhost:8080/",
          "height": 66
        }
      },
      "source": [
        "# timeit library to measure the time needed to run this code\n",
        "import timeit\n",
        "start = timeit.default_timer()\n",
        "\n",
        "# create empty lists where the results are going to be stored\n",
        "artist_name = []\n",
        "track_name = []\n",
        "popularity = []\n",
        "track_id = []\n",
        "genre_name = []\n",
        "\n",
        "genres = [\"acoustic\", \"afrobeat\", \"alt-rock\", \"alternative\", \"ambient\", \"anime\", \"black-metal\", \"bluegrass\", \"blues\", \"bossanova\"]\n",
        "\n",
        "# List of available genres (126) from https://developer.spotify.com/console/get-available-genre-seeds/\n",
        "# {\"genres\": \n",
        "# [\"acoustic\", \"afrobeat\", \"alt-rock\", \"alternative\", \"ambient\", \"anime\", \"black-metal\", \"bluegrass\", \"blues\", \"bossanova\", \n",
        "# \"brazil\", \"breakbeat\", \"british\", \"cantopop\", \"chicago-house\", \"children\", \"chill\", \"classical\", \"club\", \"comedy\", \n",
        "# \"country\", \"dance\", \"dancehall\", \"death-metal\", \"deep-house\", \"detroit-techno\", \"disco\", \"disney\", \"drum-and-bass\", \"dub\", \n",
        "# \"dubstep\", \"edm\", \"electro\", \"electronic\", \"emo\", \"folk\", \"forro\", \"french\", \"funk\", \"garage\", \n",
        "# \"german\", \"gospel\", \"goth\", \"grindcore\", \"groove\", \"grunge\", \"guitar\", \"happy\", \"hard-rock\", \"hardcore\", \n",
        "# \"hardstyle\", \"heavy-metal\", \"hip-hop\", \"holidays\", \"honky-tonk\", \"house\", \"idm\", \"indian\", \"indie\", \"indie-pop\", \n",
        "# \"industrial\", \"iranian\", \"j-dance\", \"j-idol\", \"j-pop\", \"j-rock\", \"jazz\", \"k-pop\", \"kids\", \"latin\", \n",
        "# \"latino\", \"malay\", \"mandopop\", \"metal\", \"metal-misc\", \"metalcore\", \"minimal-techno\", \"movies\", \"mpb\", \"new-age\", \n",
        "# \"new-release\", \"opera\", \"pagode\", \"party\", \"philippines-opm\", \"piano\", \"pop\", \"pop-film\", \"post-dubstep\", \"power-pop\", \n",
        "# \"progressive-house\", \"psych-rock\", \"punk\", \"punk-rock\", \"r-n-b\", \"rainy-day\", \"reggae\", \"reggaeton\", \"road-trip\", \"rock\", \n",
        "# \"rock-n-roll\", \"rockabilly\", \"romance\", \"sad\", \"salsa\", \"samba\", \"sertanejo\", \"show-tunes\", \"singer-songwriter\", \"ska\", \n",
        "# \"sleep\", \"songwriter\", \"soul\", \"soundtracks\", \"spanish\", \"study\", \"summer\", \"swedish\", \"synth-pop\", \"tango\", \n",
        "# \"techno\", \"trance\", \"trip-hop\", \"turkish\", \"work-out\", \"world-music\"]\n",
        "# }\n",
        "\n",
        "for g in genres:\n",
        "  for i in range(0,2000,50):\n",
        "      track_results = sp.search(q=f\"genre:{g} year:2018\", type='track', limit=50,offset=i)\n",
        "      for i, t in enumerate(track_results['tracks']['items']):\n",
        "          artist_name.append(t['artists'][0]['name'])\n",
        "          track_name.append(t['name'])\n",
        "          track_id.append(t['id'])\n",
        "          popularity.append(t['popularity'])\n",
        "          genre_name.append(g)\n",
        "      \n",
        "\n",
        "stop = timeit.default_timer()\n",
        "print ('Time to run this code (in seconds):', stop - start)"
      ],
      "execution_count": 0,
      "outputs": [
        {
          "output_type": "stream",
          "text": [
            "retrying ...1secs\n",
            "Time to run this code (in seconds): 30.62036742600003\n",
            "number of elements in the track_id list: 9192\n"
          ],
          "name": "stdout"
        }
      ]
    },
    {
      "cell_type": "markdown",
      "metadata": {
        "id": "dcqfbPAmTX-P",
        "colab_type": "text"
      },
      "source": [
        "# 3. EDA + Data Preparation\n",
        "\n",
        "In the next few cells, I'm going to do some exploratory data analysis as well as data preparation of the newly gained data.\n",
        "\n",
        "A quick check for the track_id list:"
      ]
    },
    {
      "cell_type": "code",
      "metadata": {
        "id": "DVl6DA_8TX-R",
        "colab_type": "code",
        "outputId": "4a117b1a-22a3-4e3a-e833-90800c5a73e5",
        "colab": {
          "base_uri": "https://localhost:8080/"
        }
      },
      "source": [
        "print('number of elements in the track_id list:', len(track_id))"
      ],
      "execution_count": 0,
      "outputs": [
        {
          "output_type": "stream",
          "text": [
            "number of elements in the track_id list: 9192\n"
          ],
          "name": "stdout"
        }
      ]
    },
    {
      "cell_type": "markdown",
      "metadata": {
        "id": "VZfgGbQ-TX-U",
        "colab_type": "text"
      },
      "source": [
        "Looks good. Now loading the lists in a dataframe."
      ]
    },
    {
      "cell_type": "code",
      "metadata": {
        "id": "7FLJoOm8TX-V",
        "colab_type": "code",
        "outputId": "0818b04f-c0ed-4acd-b973-99f1bf92cbb3",
        "colab": {
          "base_uri": "https://localhost:8080/"
        }
      },
      "source": [
        "import pandas as pd\n",
        "\n",
        "df_tracks = pd.DataFrame({'artist_name':artist_name,'track_name':track_name,'track_id':track_id,'popularity':popularity,'genre':genre_name})\n",
        "print(df_tracks.shape)\n",
        "df_tracks.tail()"
      ],
      "execution_count": 0,
      "outputs": [
        {
          "output_type": "stream",
          "text": [
            "(9192, 5)\n"
          ],
          "name": "stdout"
        },
        {
          "output_type": "execute_result",
          "data": {
            "text/html": [
              "<div>\n",
              "<style scoped>\n",
              "    .dataframe tbody tr th:only-of-type {\n",
              "        vertical-align: middle;\n",
              "    }\n",
              "\n",
              "    .dataframe tbody tr th {\n",
              "        vertical-align: top;\n",
              "    }\n",
              "\n",
              "    .dataframe thead th {\n",
              "        text-align: right;\n",
              "    }\n",
              "</style>\n",
              "<table border=\"1\" class=\"dataframe\">\n",
              "  <thead>\n",
              "    <tr style=\"text-align: right;\">\n",
              "      <th></th>\n",
              "      <th>artist_name</th>\n",
              "      <th>track_name</th>\n",
              "      <th>track_id</th>\n",
              "      <th>popularity</th>\n",
              "      <th>genre</th>\n",
              "    </tr>\n",
              "  </thead>\n",
              "  <tbody>\n",
              "    <tr>\n",
              "      <th>9187</th>\n",
              "      <td>Steve Hauschildt</td>\n",
              "      <td>Horizon of Appearances</td>\n",
              "      <td>09sBwNmHJRLTjLUkbmpLVT</td>\n",
              "      <td>0</td>\n",
              "      <td>world-music</td>\n",
              "    </tr>\n",
              "    <tr>\n",
              "      <th>9188</th>\n",
              "      <td>Oneohtrix Point Never</td>\n",
              "      <td>The Station</td>\n",
              "      <td>22yjezjXBvnHFCFOGDq8BZ</td>\n",
              "      <td>5</td>\n",
              "      <td>world-music</td>\n",
              "    </tr>\n",
              "    <tr>\n",
              "      <th>9189</th>\n",
              "      <td>Tim Hecker</td>\n",
              "      <td>Brownwedding</td>\n",
              "      <td>1aUKbiR6wyu0U6e8JgKIxl</td>\n",
              "      <td>1</td>\n",
              "      <td>world-music</td>\n",
              "    </tr>\n",
              "    <tr>\n",
              "      <th>9190</th>\n",
              "      <td>Tim Hecker</td>\n",
              "      <td>Keyed out</td>\n",
              "      <td>6fAo62Wd5dlKHZKoIN2Tkh</td>\n",
              "      <td>4</td>\n",
              "      <td>world-music</td>\n",
              "    </tr>\n",
              "    <tr>\n",
              "      <th>9191</th>\n",
              "      <td>Tim Hecker</td>\n",
              "      <td>Chimeras</td>\n",
              "      <td>21mw7zZLl70dOTLknT36vX</td>\n",
              "      <td>5</td>\n",
              "      <td>world-music</td>\n",
              "    </tr>\n",
              "  </tbody>\n",
              "</table>\n",
              "</div>"
            ],
            "text/plain": [
              "                artist_name              track_name  ... popularity        genre\n",
              "9187       Steve Hauschildt  Horizon of Appearances  ...          0  world-music\n",
              "9188  Oneohtrix Point Never             The Station  ...          5  world-music\n",
              "9189             Tim Hecker            Brownwedding  ...          1  world-music\n",
              "9190             Tim Hecker               Keyed out  ...          4  world-music\n",
              "9191             Tim Hecker                Chimeras  ...          5  world-music\n",
              "\n",
              "[5 rows x 5 columns]"
            ]
          },
          "metadata": {
            "tags": []
          },
          "execution_count": 221
        }
      ]
    },
    {
      "cell_type": "code",
      "metadata": {
        "id": "IYCsZAuoTX-Z",
        "colab_type": "code",
        "outputId": "880d21df-6afd-41fb-c1fc-57d56333498b",
        "colab": {
          "base_uri": "https://localhost:8080/"
        }
      },
      "source": [
        "df_tracks.info()"
      ],
      "execution_count": 0,
      "outputs": [
        {
          "output_type": "stream",
          "text": [
            "<class 'pandas.core.frame.DataFrame'>\n",
            "RangeIndex: 9192 entries, 0 to 9191\n",
            "Data columns (total 5 columns):\n",
            "artist_name    9192 non-null object\n",
            "track_name     9192 non-null object\n",
            "track_id       9192 non-null object\n",
            "popularity     9192 non-null int64\n",
            "genre          9192 non-null object\n",
            "dtypes: int64(1), object(4)\n",
            "memory usage: 359.2+ KB\n"
          ],
          "name": "stdout"
        }
      ]
    },
    {
      "cell_type": "markdown",
      "metadata": {
        "id": "xhqw9R40TX-d",
        "colab_type": "text"
      },
      "source": [
        "Sometimes, the same track is returned under different track IDs (single, as part of an album etc.).\n",
        "\n",
        "This needs to be checked for and corrected if needed."
      ]
    },
    {
      "cell_type": "code",
      "metadata": {
        "id": "KDPyCrwwTX-e",
        "colab_type": "code",
        "outputId": "74e56177-d16b-47cf-92d6-bea1e0259ae5",
        "colab": {
          "base_uri": "https://localhost:8080/"
        }
      },
      "source": [
        "# group the entries by artist_name and track_name and check for duplicates\n",
        "\n",
        "grouped = df_tracks.groupby(['artist_name','track_name'], as_index=True).size()\n",
        "grouped[grouped > 1].count()"
      ],
      "execution_count": 0,
      "outputs": [
        {
          "output_type": "execute_result",
          "data": {
            "text/plain": [
              "908"
            ]
          },
          "metadata": {
            "tags": []
          },
          "execution_count": 223
        }
      ]
    },
    {
      "cell_type": "markdown",
      "metadata": {
        "id": "uGQt5vUvTX-i",
        "colab_type": "text"
      },
      "source": [
        "There are 259 duplicate entries which will be dropped in the next cell:"
      ]
    },
    {
      "cell_type": "code",
      "metadata": {
        "id": "1CKbCKaUTX-j",
        "colab_type": "code",
        "colab": {}
      },
      "source": [
        "df_tracks.drop_duplicates(subset=['artist_name','track_name'], inplace=True)"
      ],
      "execution_count": 0,
      "outputs": []
    },
    {
      "cell_type": "code",
      "metadata": {
        "id": "8vuv2gdtTX-m",
        "colab_type": "code",
        "outputId": "29a7cf92-17ea-4b51-a004-1e63af2e4d64",
        "colab": {
          "base_uri": "https://localhost:8080/"
        }
      },
      "source": [
        "# doing the same grouping as before to verify the solution\n",
        "grouped_after_dropping = df_tracks.groupby(['artist_name','track_name'], as_index=True).size()\n",
        "grouped_after_dropping[grouped_after_dropping > 1].count()"
      ],
      "execution_count": 0,
      "outputs": [
        {
          "output_type": "execute_result",
          "data": {
            "text/plain": [
              "0"
            ]
          },
          "metadata": {
            "tags": []
          },
          "execution_count": 225
        }
      ]
    },
    {
      "cell_type": "markdown",
      "metadata": {
        "id": "BRRGibG-TX-q",
        "colab_type": "text"
      },
      "source": [
        "This time the results are empty. Another way of checking this:"
      ]
    },
    {
      "cell_type": "code",
      "metadata": {
        "id": "sH5m_JfxTX-r",
        "colab_type": "code",
        "outputId": "6cbe932b-42f5-48b8-c0dc-4e4960c3cccc",
        "colab": {
          "base_uri": "https://localhost:8080/"
        }
      },
      "source": [
        "df_tracks[df_tracks.duplicated(subset=['artist_name','track_name'],keep=False)].count()"
      ],
      "execution_count": 0,
      "outputs": [
        {
          "output_type": "execute_result",
          "data": {
            "text/plain": [
              "artist_name    0\n",
              "track_name     0\n",
              "track_id       0\n",
              "popularity     0\n",
              "genre          0\n",
              "dtype: int64"
            ]
          },
          "metadata": {
            "tags": []
          },
          "execution_count": 226
        }
      ]
    },
    {
      "cell_type": "markdown",
      "metadata": {
        "id": "FGwGbI5-TX-u",
        "colab_type": "text"
      },
      "source": [
        "Checking how many tracks are left now:"
      ]
    },
    {
      "cell_type": "code",
      "metadata": {
        "id": "_LKuwThETX-v",
        "colab_type": "code",
        "outputId": "dfb97d12-7faa-4799-c678-36858878c097",
        "colab": {
          "base_uri": "https://localhost:8080/"
        }
      },
      "source": [
        "df_tracks.shape"
      ],
      "execution_count": 0,
      "outputs": [
        {
          "output_type": "execute_result",
          "data": {
            "text/plain": [
              "(7938, 5)"
            ]
          },
          "metadata": {
            "tags": []
          },
          "execution_count": 227
        }
      ]
    },
    {
      "cell_type": "markdown",
      "metadata": {
        "id": "47D7XdVCTX-y",
        "colab_type": "text"
      },
      "source": [
        "# 4: Get the Audio Features Data\n",
        "\n",
        "With the [audio features endpoint](https://beta.developer.spotify.com/documentation/web-api/reference/tracks/get-several-audio-features/) I will now get the audio features data for my 9460 track IDs.\n",
        "\n",
        "The limitation for this endpoint is that a maximum of 100 track IDs can be submitted per query.\n",
        "\n",
        "Again, I used a nested for loop. This time the outer loop was pulling track IDs in batches of size 100 and the inner for loop was doing the query and appending the results to the rows list.\n",
        "\n",
        "Additionaly, I had to implement a check when a track ID didn't return any audio features (i.e. None was returned) as this was causing issues."
      ]
    },
    {
      "cell_type": "code",
      "metadata": {
        "id": "XT9qIao-TX-z",
        "colab_type": "code",
        "outputId": "9305e558-c9f8-4d7b-e9f3-50df8e62f882",
        "colab": {
          "base_uri": "https://localhost:8080/"
        }
      },
      "source": [
        "# again measuring the time\n",
        "start = timeit.default_timer()\n",
        "\n",
        "# empty list, batchsize and the counter for None results\n",
        "rows = []\n",
        "batchsize = 100\n",
        "None_counter = 0\n",
        "\n",
        "for i in range(0,len(df_tracks['track_id']),batchsize):\n",
        "    batch = df_tracks['track_id'][i:i+batchsize]\n",
        "    feature_results = sp.audio_features(batch)\n",
        "    for i, t in enumerate(feature_results):\n",
        "        if t == None:\n",
        "            None_counter = None_counter + 1\n",
        "        else:\n",
        "            rows.append(t)\n",
        "            \n",
        "print('Number of tracks where no audio features were available:',None_counter)\n",
        "\n",
        "stop = timeit.default_timer()\n",
        "print ('Time to run this code (in seconds):',stop - start)"
      ],
      "execution_count": 0,
      "outputs": [
        {
          "output_type": "stream",
          "text": [
            "Number of tracks where no audio features were available: 0\n",
            "Time to run this code (in seconds): 9.546686364000152\n"
          ],
          "name": "stdout"
        }
      ]
    },
    {
      "cell_type": "markdown",
      "metadata": {
        "id": "nkE3dryvTX-2",
        "colab_type": "text"
      },
      "source": [
        "# 5. EDA + Data Preparation\n",
        "\n",
        "Same as with the first dataset, checking how the rows list looks like:"
      ]
    },
    {
      "cell_type": "code",
      "metadata": {
        "id": "uL3KXtObTX-3",
        "colab_type": "code",
        "outputId": "2cc856cf-f877-4ee8-dd17-512b649d3e2b",
        "colab": {
          "base_uri": "https://localhost:8080/"
        }
      },
      "source": [
        "print('number of elements in the track_id list:', len(rows))"
      ],
      "execution_count": 0,
      "outputs": [
        {
          "output_type": "stream",
          "text": [
            "number of elements in the track_id list: 7938\n"
          ],
          "name": "stdout"
        }
      ]
    },
    {
      "cell_type": "markdown",
      "metadata": {
        "id": "V4hZvNnBTX-8",
        "colab_type": "text"
      },
      "source": [
        "Finally, I will load the audio features in a dataframe."
      ]
    },
    {
      "cell_type": "code",
      "metadata": {
        "id": "Aa6vvKN_TX-9",
        "colab_type": "code",
        "outputId": "73b2d235-1121-4bdd-8c00-0663cfc12884",
        "colab": {
          "base_uri": "https://localhost:8080/"
        }
      },
      "source": [
        "df_audio_features = pd.DataFrame.from_dict(rows,orient='columns')\n",
        "print(\"Shape of the dataset:\", df_audio_features.shape)\n",
        "df_audio_features.head(15)"
      ],
      "execution_count": 0,
      "outputs": [
        {
          "output_type": "stream",
          "text": [
            "Shape of the dataset: (7938, 18)\n"
          ],
          "name": "stdout"
        },
        {
          "output_type": "execute_result",
          "data": {
            "text/html": [
              "<div>\n",
              "<style scoped>\n",
              "    .dataframe tbody tr th:only-of-type {\n",
              "        vertical-align: middle;\n",
              "    }\n",
              "\n",
              "    .dataframe tbody tr th {\n",
              "        vertical-align: top;\n",
              "    }\n",
              "\n",
              "    .dataframe thead th {\n",
              "        text-align: right;\n",
              "    }\n",
              "</style>\n",
              "<table border=\"1\" class=\"dataframe\">\n",
              "  <thead>\n",
              "    <tr style=\"text-align: right;\">\n",
              "      <th></th>\n",
              "      <th>danceability</th>\n",
              "      <th>energy</th>\n",
              "      <th>key</th>\n",
              "      <th>loudness</th>\n",
              "      <th>mode</th>\n",
              "      <th>speechiness</th>\n",
              "      <th>acousticness</th>\n",
              "      <th>instrumentalness</th>\n",
              "      <th>liveness</th>\n",
              "      <th>valence</th>\n",
              "      <th>tempo</th>\n",
              "      <th>type</th>\n",
              "      <th>id</th>\n",
              "      <th>uri</th>\n",
              "      <th>track_href</th>\n",
              "      <th>analysis_url</th>\n",
              "      <th>duration_ms</th>\n",
              "      <th>time_signature</th>\n",
              "    </tr>\n",
              "  </thead>\n",
              "  <tbody>\n",
              "    <tr>\n",
              "      <th>0</th>\n",
              "      <td>0.753</td>\n",
              "      <td>0.657</td>\n",
              "      <td>7</td>\n",
              "      <td>-3.061</td>\n",
              "      <td>1</td>\n",
              "      <td>0.0449</td>\n",
              "      <td>0.171000</td>\n",
              "      <td>0.00000</td>\n",
              "      <td>0.1120</td>\n",
              "      <td>0.4370</td>\n",
              "      <td>107.010</td>\n",
              "      <td>audio_features</td>\n",
              "      <td>09IStsImFySgyp0pIQdqAc</td>\n",
              "      <td>spotify:track:09IStsImFySgyp0pIQdqAc</td>\n",
              "      <td>https://api.spotify.com/v1/tracks/09IStsImFySg...</td>\n",
              "      <td>https://api.spotify.com/v1/audio-analysis/09IS...</td>\n",
              "      <td>184732</td>\n",
              "      <td>4</td>\n",
              "    </tr>\n",
              "    <tr>\n",
              "      <th>1</th>\n",
              "      <td>0.741</td>\n",
              "      <td>0.814</td>\n",
              "      <td>2</td>\n",
              "      <td>-4.393</td>\n",
              "      <td>1</td>\n",
              "      <td>0.0646</td>\n",
              "      <td>0.028100</td>\n",
              "      <td>0.00000</td>\n",
              "      <td>0.0640</td>\n",
              "      <td>0.4760</td>\n",
              "      <td>118.048</td>\n",
              "      <td>audio_features</td>\n",
              "      <td>05bUAkDRK3xzvVkZlGU6ee</td>\n",
              "      <td>spotify:track:05bUAkDRK3xzvVkZlGU6ee</td>\n",
              "      <td>https://api.spotify.com/v1/tracks/05bUAkDRK3xz...</td>\n",
              "      <td>https://api.spotify.com/v1/audio-analysis/05bU...</td>\n",
              "      <td>190730</td>\n",
              "      <td>4</td>\n",
              "    </tr>\n",
              "    <tr>\n",
              "      <th>2</th>\n",
              "      <td>0.712</td>\n",
              "      <td>0.601</td>\n",
              "      <td>5</td>\n",
              "      <td>-8.968</td>\n",
              "      <td>1</td>\n",
              "      <td>0.0620</td>\n",
              "      <td>0.000011</td>\n",
              "      <td>0.80200</td>\n",
              "      <td>0.0982</td>\n",
              "      <td>0.5130</td>\n",
              "      <td>124.912</td>\n",
              "      <td>audio_features</td>\n",
              "      <td>5YzBL3vkQnp3JbeDRRSbSQ</td>\n",
              "      <td>spotify:track:5YzBL3vkQnp3JbeDRRSbSQ</td>\n",
              "      <td>https://api.spotify.com/v1/tracks/5YzBL3vkQnp3...</td>\n",
              "      <td>https://api.spotify.com/v1/audio-analysis/5YzB...</td>\n",
              "      <td>398151</td>\n",
              "      <td>4</td>\n",
              "    </tr>\n",
              "    <tr>\n",
              "      <th>3</th>\n",
              "      <td>0.660</td>\n",
              "      <td>0.857</td>\n",
              "      <td>11</td>\n",
              "      <td>-7.946</td>\n",
              "      <td>0</td>\n",
              "      <td>0.0565</td>\n",
              "      <td>0.002620</td>\n",
              "      <td>0.16500</td>\n",
              "      <td>0.2150</td>\n",
              "      <td>0.1110</td>\n",
              "      <td>126.032</td>\n",
              "      <td>audio_features</td>\n",
              "      <td>2zDCZ8jY4kjuUZbVROHaZj</td>\n",
              "      <td>spotify:track:2zDCZ8jY4kjuUZbVROHaZj</td>\n",
              "      <td>https://api.spotify.com/v1/tracks/2zDCZ8jY4kju...</td>\n",
              "      <td>https://api.spotify.com/v1/audio-analysis/2zDC...</td>\n",
              "      <td>285857</td>\n",
              "      <td>4</td>\n",
              "    </tr>\n",
              "    <tr>\n",
              "      <th>4</th>\n",
              "      <td>0.554</td>\n",
              "      <td>0.848</td>\n",
              "      <td>5</td>\n",
              "      <td>-4.075</td>\n",
              "      <td>0</td>\n",
              "      <td>0.0745</td>\n",
              "      <td>0.002370</td>\n",
              "      <td>0.00000</td>\n",
              "      <td>0.1850</td>\n",
              "      <td>0.2860</td>\n",
              "      <td>144.996</td>\n",
              "      <td>audio_features</td>\n",
              "      <td>6Jgg7hrMuBzoJ0TG8tD28G</td>\n",
              "      <td>spotify:track:6Jgg7hrMuBzoJ0TG8tD28G</td>\n",
              "      <td>https://api.spotify.com/v1/tracks/6Jgg7hrMuBzo...</td>\n",
              "      <td>https://api.spotify.com/v1/audio-analysis/6Jgg...</td>\n",
              "      <td>216441</td>\n",
              "      <td>4</td>\n",
              "    </tr>\n",
              "    <tr>\n",
              "      <th>5</th>\n",
              "      <td>0.805</td>\n",
              "      <td>0.764</td>\n",
              "      <td>4</td>\n",
              "      <td>-10.983</td>\n",
              "      <td>0</td>\n",
              "      <td>0.0796</td>\n",
              "      <td>0.459000</td>\n",
              "      <td>0.93700</td>\n",
              "      <td>0.1020</td>\n",
              "      <td>0.7070</td>\n",
              "      <td>122.008</td>\n",
              "      <td>audio_features</td>\n",
              "      <td>7KtbZxJU9ZdIyJJ4QMzx66</td>\n",
              "      <td>spotify:track:7KtbZxJU9ZdIyJJ4QMzx66</td>\n",
              "      <td>https://api.spotify.com/v1/tracks/7KtbZxJU9ZdI...</td>\n",
              "      <td>https://api.spotify.com/v1/audio-analysis/7Ktb...</td>\n",
              "      <td>598071</td>\n",
              "      <td>4</td>\n",
              "    </tr>\n",
              "    <tr>\n",
              "      <th>6</th>\n",
              "      <td>0.484</td>\n",
              "      <td>0.920</td>\n",
              "      <td>8</td>\n",
              "      <td>-3.676</td>\n",
              "      <td>1</td>\n",
              "      <td>0.0333</td>\n",
              "      <td>0.032800</td>\n",
              "      <td>0.71700</td>\n",
              "      <td>0.1960</td>\n",
              "      <td>0.5190</td>\n",
              "      <td>127.991</td>\n",
              "      <td>audio_features</td>\n",
              "      <td>2JjzEnHml6T2UjF8Evud85</td>\n",
              "      <td>spotify:track:2JjzEnHml6T2UjF8Evud85</td>\n",
              "      <td>https://api.spotify.com/v1/tracks/2JjzEnHml6T2...</td>\n",
              "      <td>https://api.spotify.com/v1/audio-analysis/2Jjz...</td>\n",
              "      <td>178123</td>\n",
              "      <td>4</td>\n",
              "    </tr>\n",
              "    <tr>\n",
              "      <th>7</th>\n",
              "      <td>0.672</td>\n",
              "      <td>0.519</td>\n",
              "      <td>4</td>\n",
              "      <td>-13.699</td>\n",
              "      <td>0</td>\n",
              "      <td>0.0580</td>\n",
              "      <td>0.021000</td>\n",
              "      <td>0.86800</td>\n",
              "      <td>0.3330</td>\n",
              "      <td>0.2580</td>\n",
              "      <td>116.892</td>\n",
              "      <td>audio_features</td>\n",
              "      <td>2ywFTaCXKedBFlYA0XcHJM</td>\n",
              "      <td>spotify:track:2ywFTaCXKedBFlYA0XcHJM</td>\n",
              "      <td>https://api.spotify.com/v1/tracks/2ywFTaCXKedB...</td>\n",
              "      <td>https://api.spotify.com/v1/audio-analysis/2ywF...</td>\n",
              "      <td>249794</td>\n",
              "      <td>4</td>\n",
              "    </tr>\n",
              "    <tr>\n",
              "      <th>8</th>\n",
              "      <td>0.751</td>\n",
              "      <td>0.721</td>\n",
              "      <td>11</td>\n",
              "      <td>-8.093</td>\n",
              "      <td>0</td>\n",
              "      <td>0.0655</td>\n",
              "      <td>0.000252</td>\n",
              "      <td>0.57400</td>\n",
              "      <td>0.1190</td>\n",
              "      <td>0.0388</td>\n",
              "      <td>126.020</td>\n",
              "      <td>audio_features</td>\n",
              "      <td>1WsHKAuN9vDthcmimdqqaY</td>\n",
              "      <td>spotify:track:1WsHKAuN9vDthcmimdqqaY</td>\n",
              "      <td>https://api.spotify.com/v1/tracks/1WsHKAuN9vDt...</td>\n",
              "      <td>https://api.spotify.com/v1/audio-analysis/1WsH...</td>\n",
              "      <td>502969</td>\n",
              "      <td>4</td>\n",
              "    </tr>\n",
              "    <tr>\n",
              "      <th>9</th>\n",
              "      <td>0.748</td>\n",
              "      <td>0.790</td>\n",
              "      <td>5</td>\n",
              "      <td>-10.116</td>\n",
              "      <td>1</td>\n",
              "      <td>0.0782</td>\n",
              "      <td>0.002380</td>\n",
              "      <td>0.87400</td>\n",
              "      <td>0.0798</td>\n",
              "      <td>0.2300</td>\n",
              "      <td>110.003</td>\n",
              "      <td>audio_features</td>\n",
              "      <td>26wBcR6Damyd7l4xGI6DNg</td>\n",
              "      <td>spotify:track:26wBcR6Damyd7l4xGI6DNg</td>\n",
              "      <td>https://api.spotify.com/v1/tracks/26wBcR6Damyd...</td>\n",
              "      <td>https://api.spotify.com/v1/audio-analysis/26wB...</td>\n",
              "      <td>416923</td>\n",
              "      <td>4</td>\n",
              "    </tr>\n",
              "    <tr>\n",
              "      <th>10</th>\n",
              "      <td>0.802</td>\n",
              "      <td>0.886</td>\n",
              "      <td>10</td>\n",
              "      <td>-7.676</td>\n",
              "      <td>0</td>\n",
              "      <td>0.0393</td>\n",
              "      <td>0.000030</td>\n",
              "      <td>0.90200</td>\n",
              "      <td>0.0986</td>\n",
              "      <td>0.0774</td>\n",
              "      <td>120.018</td>\n",
              "      <td>audio_features</td>\n",
              "      <td>126B1mu0tb4gEqyjufUjms</td>\n",
              "      <td>spotify:track:126B1mu0tb4gEqyjufUjms</td>\n",
              "      <td>https://api.spotify.com/v1/tracks/126B1mu0tb4g...</td>\n",
              "      <td>https://api.spotify.com/v1/audio-analysis/126B...</td>\n",
              "      <td>512697</td>\n",
              "      <td>4</td>\n",
              "    </tr>\n",
              "    <tr>\n",
              "      <th>11</th>\n",
              "      <td>0.904</td>\n",
              "      <td>0.727</td>\n",
              "      <td>7</td>\n",
              "      <td>-9.992</td>\n",
              "      <td>0</td>\n",
              "      <td>0.0591</td>\n",
              "      <td>0.000065</td>\n",
              "      <td>0.86000</td>\n",
              "      <td>0.0737</td>\n",
              "      <td>0.4080</td>\n",
              "      <td>122.001</td>\n",
              "      <td>audio_features</td>\n",
              "      <td>0RMQgXHIBTsAVcaS7qahLq</td>\n",
              "      <td>spotify:track:0RMQgXHIBTsAVcaS7qahLq</td>\n",
              "      <td>https://api.spotify.com/v1/tracks/0RMQgXHIBTsA...</td>\n",
              "      <td>https://api.spotify.com/v1/audio-analysis/0RMQ...</td>\n",
              "      <td>504590</td>\n",
              "      <td>4</td>\n",
              "    </tr>\n",
              "    <tr>\n",
              "      <th>12</th>\n",
              "      <td>0.502</td>\n",
              "      <td>0.891</td>\n",
              "      <td>4</td>\n",
              "      <td>-4.734</td>\n",
              "      <td>0</td>\n",
              "      <td>0.0455</td>\n",
              "      <td>0.032200</td>\n",
              "      <td>0.00543</td>\n",
              "      <td>0.1180</td>\n",
              "      <td>0.2300</td>\n",
              "      <td>159.917</td>\n",
              "      <td>audio_features</td>\n",
              "      <td>4HaMXBKZa59l6MnyhLK6Bw</td>\n",
              "      <td>spotify:track:4HaMXBKZa59l6MnyhLK6Bw</td>\n",
              "      <td>https://api.spotify.com/v1/tracks/4HaMXBKZa59l...</td>\n",
              "      <td>https://api.spotify.com/v1/audio-analysis/4HaM...</td>\n",
              "      <td>228800</td>\n",
              "      <td>4</td>\n",
              "    </tr>\n",
              "    <tr>\n",
              "      <th>13</th>\n",
              "      <td>0.762</td>\n",
              "      <td>0.489</td>\n",
              "      <td>11</td>\n",
              "      <td>-9.118</td>\n",
              "      <td>1</td>\n",
              "      <td>0.0353</td>\n",
              "      <td>0.007800</td>\n",
              "      <td>0.21600</td>\n",
              "      <td>0.2290</td>\n",
              "      <td>0.0494</td>\n",
              "      <td>104.000</td>\n",
              "      <td>audio_features</td>\n",
              "      <td>69yXTzS47Rz9TPLgJbBK8I</td>\n",
              "      <td>spotify:track:69yXTzS47Rz9TPLgJbBK8I</td>\n",
              "      <td>https://api.spotify.com/v1/tracks/69yXTzS47Rz9...</td>\n",
              "      <td>https://api.spotify.com/v1/audio-analysis/69yX...</td>\n",
              "      <td>272507</td>\n",
              "      <td>4</td>\n",
              "    </tr>\n",
              "    <tr>\n",
              "      <th>14</th>\n",
              "      <td>0.847</td>\n",
              "      <td>0.346</td>\n",
              "      <td>7</td>\n",
              "      <td>-11.243</td>\n",
              "      <td>1</td>\n",
              "      <td>0.0936</td>\n",
              "      <td>0.003390</td>\n",
              "      <td>0.91800</td>\n",
              "      <td>0.0704</td>\n",
              "      <td>0.4040</td>\n",
              "      <td>126.009</td>\n",
              "      <td>audio_features</td>\n",
              "      <td>7grNHTSADMlLZ96mH4wI85</td>\n",
              "      <td>spotify:track:7grNHTSADMlLZ96mH4wI85</td>\n",
              "      <td>https://api.spotify.com/v1/tracks/7grNHTSADMlL...</td>\n",
              "      <td>https://api.spotify.com/v1/audio-analysis/7grN...</td>\n",
              "      <td>436150</td>\n",
              "      <td>4</td>\n",
              "    </tr>\n",
              "  </tbody>\n",
              "</table>\n",
              "</div>"
            ],
            "text/plain": [
              "    danceability  energy  ...  duration_ms  time_signature\n",
              "0          0.753   0.657  ...       184732               4\n",
              "1          0.741   0.814  ...       190730               4\n",
              "2          0.712   0.601  ...       398151               4\n",
              "3          0.660   0.857  ...       285857               4\n",
              "4          0.554   0.848  ...       216441               4\n",
              "5          0.805   0.764  ...       598071               4\n",
              "6          0.484   0.920  ...       178123               4\n",
              "7          0.672   0.519  ...       249794               4\n",
              "8          0.751   0.721  ...       502969               4\n",
              "9          0.748   0.790  ...       416923               4\n",
              "10         0.802   0.886  ...       512697               4\n",
              "11         0.904   0.727  ...       504590               4\n",
              "12         0.502   0.891  ...       228800               4\n",
              "13         0.762   0.489  ...       272507               4\n",
              "14         0.847   0.346  ...       436150               4\n",
              "\n",
              "[15 rows x 18 columns]"
            ]
          },
          "metadata": {
            "tags": []
          },
          "execution_count": 230
        }
      ]
    },
    {
      "cell_type": "code",
      "metadata": {
        "id": "jcJoTaeGTX_A",
        "colab_type": "code",
        "outputId": "ac0443f5-f120-48c8-924c-46c14ad53dbb",
        "colab": {
          "base_uri": "https://localhost:8080/"
        }
      },
      "source": [
        "df_audio_features.info()"
      ],
      "execution_count": 0,
      "outputs": [
        {
          "output_type": "stream",
          "text": [
            "<class 'pandas.core.frame.DataFrame'>\n",
            "RangeIndex: 7938 entries, 0 to 7937\n",
            "Data columns (total 18 columns):\n",
            "danceability        7938 non-null float64\n",
            "energy              7938 non-null float64\n",
            "key                 7938 non-null int64\n",
            "loudness            7938 non-null float64\n",
            "mode                7938 non-null int64\n",
            "speechiness         7938 non-null float64\n",
            "acousticness        7938 non-null float64\n",
            "instrumentalness    7938 non-null float64\n",
            "liveness            7938 non-null float64\n",
            "valence             7938 non-null float64\n",
            "tempo               7938 non-null float64\n",
            "type                7938 non-null object\n",
            "id                  7938 non-null object\n",
            "uri                 7938 non-null object\n",
            "track_href          7938 non-null object\n",
            "analysis_url        7938 non-null object\n",
            "duration_ms         7938 non-null int64\n",
            "time_signature      7938 non-null int64\n",
            "dtypes: float64(9), int64(4), object(5)\n",
            "memory usage: 1.1+ MB\n"
          ],
          "name": "stdout"
        }
      ]
    },
    {
      "cell_type": "markdown",
      "metadata": {
        "id": "XJyKlDJ5TX_D",
        "colab_type": "text"
      },
      "source": [
        "Some columns are not needed for the analysis so I will drop them.\n",
        "\n",
        "Also the ID column will be renamed to track_id so that it matches the column name from the first dataframe."
      ]
    },
    {
      "cell_type": "code",
      "metadata": {
        "id": "Hl_8Vhq8TX_E",
        "colab_type": "code",
        "outputId": "1e0fb3fa-a2b1-4a28-ff46-eb8bb7f91325",
        "colab": {
          "base_uri": "https://localhost:8080/"
        }
      },
      "source": [
        "# columns_to_drop = ['analysis_url','track_href','type','uri']\n",
        "# df_audio_features.drop(columns_to_drop, axis=1,inplace=True)\n",
        "\n",
        "df_audio_features.rename(columns={'id': 'track_id'}, inplace=True)\n",
        "\n",
        "df_audio_features.shape"
      ],
      "execution_count": 0,
      "outputs": [
        {
          "output_type": "execute_result",
          "data": {
            "text/plain": [
              "(7938, 18)"
            ]
          },
          "metadata": {
            "tags": []
          },
          "execution_count": 232
        }
      ]
    },
    {
      "cell_type": "code",
      "metadata": {
        "id": "ucT4ZlfUTX_H",
        "colab_type": "code",
        "outputId": "189e1dfc-2f90-4acd-fc30-32707efc1e3f",
        "colab": {
          "base_uri": "https://localhost:8080/"
        }
      },
      "source": [
        "# merge both dataframes\n",
        "# the 'inner' method will make sure that we only keep track IDs present in both datasets\n",
        "df = pd.merge(df_tracks,df_audio_features,on='track_id',how='inner')\n",
        "print(\"Shape of the dataset:\", df_audio_features.shape)\n",
        "df.tail(15)"
      ],
      "execution_count": 0,
      "outputs": [
        {
          "output_type": "stream",
          "text": [
            "Shape of the dataset: (7938, 18)\n"
          ],
          "name": "stdout"
        },
        {
          "output_type": "execute_result",
          "data": {
            "text/html": [
              "<div>\n",
              "<style scoped>\n",
              "    .dataframe tbody tr th:only-of-type {\n",
              "        vertical-align: middle;\n",
              "    }\n",
              "\n",
              "    .dataframe tbody tr th {\n",
              "        vertical-align: top;\n",
              "    }\n",
              "\n",
              "    .dataframe thead th {\n",
              "        text-align: right;\n",
              "    }\n",
              "</style>\n",
              "<table border=\"1\" class=\"dataframe\">\n",
              "  <thead>\n",
              "    <tr style=\"text-align: right;\">\n",
              "      <th></th>\n",
              "      <th>artist_name</th>\n",
              "      <th>track_name</th>\n",
              "      <th>track_id</th>\n",
              "      <th>popularity</th>\n",
              "      <th>genre</th>\n",
              "      <th>danceability</th>\n",
              "      <th>energy</th>\n",
              "      <th>key</th>\n",
              "      <th>loudness</th>\n",
              "      <th>mode</th>\n",
              "      <th>speechiness</th>\n",
              "      <th>acousticness</th>\n",
              "      <th>instrumentalness</th>\n",
              "      <th>liveness</th>\n",
              "      <th>valence</th>\n",
              "      <th>tempo</th>\n",
              "      <th>type</th>\n",
              "      <th>uri</th>\n",
              "      <th>track_href</th>\n",
              "      <th>analysis_url</th>\n",
              "      <th>duration_ms</th>\n",
              "      <th>time_signature</th>\n",
              "    </tr>\n",
              "  </thead>\n",
              "  <tbody>\n",
              "    <tr>\n",
              "      <th>7923</th>\n",
              "      <td>Jan Jelinek</td>\n",
              "      <td>Marcel Duchamp, Would You Like Or Expect Peopl...</td>\n",
              "      <td>07Gr875W8EsS67Db61HB8e</td>\n",
              "      <td>5</td>\n",
              "      <td>world-music</td>\n",
              "      <td>0.451</td>\n",
              "      <td>0.290</td>\n",
              "      <td>1</td>\n",
              "      <td>-27.177</td>\n",
              "      <td>1</td>\n",
              "      <td>0.0843</td>\n",
              "      <td>0.73000</td>\n",
              "      <td>0.476000</td>\n",
              "      <td>0.3470</td>\n",
              "      <td>0.0395</td>\n",
              "      <td>108.511</td>\n",
              "      <td>audio_features</td>\n",
              "      <td>spotify:track:07Gr875W8EsS67Db61HB8e</td>\n",
              "      <td>https://api.spotify.com/v1/tracks/07Gr875W8EsS...</td>\n",
              "      <td>https://api.spotify.com/v1/audio-analysis/07Gr...</td>\n",
              "      <td>140711</td>\n",
              "      <td>4</td>\n",
              "    </tr>\n",
              "    <tr>\n",
              "      <th>7924</th>\n",
              "      <td>Jan Jelinek</td>\n",
              "      <td>Tendency</td>\n",
              "      <td>3Gp6ijuSujVNE8EFmOe544</td>\n",
              "      <td>2</td>\n",
              "      <td>world-music</td>\n",
              "      <td>0.751</td>\n",
              "      <td>0.468</td>\n",
              "      <td>6</td>\n",
              "      <td>-14.386</td>\n",
              "      <td>1</td>\n",
              "      <td>0.0481</td>\n",
              "      <td>0.59300</td>\n",
              "      <td>0.910000</td>\n",
              "      <td>0.1110</td>\n",
              "      <td>0.4690</td>\n",
              "      <td>123.014</td>\n",
              "      <td>audio_features</td>\n",
              "      <td>spotify:track:3Gp6ijuSujVNE8EFmOe544</td>\n",
              "      <td>https://api.spotify.com/v1/tracks/3Gp6ijuSujVN...</td>\n",
              "      <td>https://api.spotify.com/v1/audio-analysis/3Gp6...</td>\n",
              "      <td>441227</td>\n",
              "      <td>4</td>\n",
              "    </tr>\n",
              "    <tr>\n",
              "      <th>7925</th>\n",
              "      <td>Paul Baloche</td>\n",
              "      <td>Your Mercy</td>\n",
              "      <td>4QDSPR5PR90W4X9J32AwyS</td>\n",
              "      <td>4</td>\n",
              "      <td>world-music</td>\n",
              "      <td>0.341</td>\n",
              "      <td>0.251</td>\n",
              "      <td>4</td>\n",
              "      <td>-11.596</td>\n",
              "      <td>1</td>\n",
              "      <td>0.0314</td>\n",
              "      <td>0.53200</td>\n",
              "      <td>0.000089</td>\n",
              "      <td>0.1040</td>\n",
              "      <td>0.0975</td>\n",
              "      <td>143.297</td>\n",
              "      <td>audio_features</td>\n",
              "      <td>spotify:track:4QDSPR5PR90W4X9J32AwyS</td>\n",
              "      <td>https://api.spotify.com/v1/tracks/4QDSPR5PR90W...</td>\n",
              "      <td>https://api.spotify.com/v1/audio-analysis/4QDS...</td>\n",
              "      <td>321627</td>\n",
              "      <td>4</td>\n",
              "    </tr>\n",
              "    <tr>\n",
              "      <th>7926</th>\n",
              "      <td>Paul Baloche</td>\n",
              "      <td>Glorious</td>\n",
              "      <td>4YYkjZvjj2kGq7oSgYD5e0</td>\n",
              "      <td>6</td>\n",
              "      <td>world-music</td>\n",
              "      <td>0.463</td>\n",
              "      <td>0.698</td>\n",
              "      <td>0</td>\n",
              "      <td>-6.343</td>\n",
              "      <td>1</td>\n",
              "      <td>0.0298</td>\n",
              "      <td>0.02860</td>\n",
              "      <td>0.000000</td>\n",
              "      <td>0.4050</td>\n",
              "      <td>0.1370</td>\n",
              "      <td>102.045</td>\n",
              "      <td>audio_features</td>\n",
              "      <td>spotify:track:4YYkjZvjj2kGq7oSgYD5e0</td>\n",
              "      <td>https://api.spotify.com/v1/tracks/4YYkjZvjj2kG...</td>\n",
              "      <td>https://api.spotify.com/v1/audio-analysis/4YYk...</td>\n",
              "      <td>302920</td>\n",
              "      <td>4</td>\n",
              "    </tr>\n",
              "    <tr>\n",
              "      <th>7927</th>\n",
              "      <td>Susumu Yokota</td>\n",
              "      <td>Wave Drops - D.K. Remix</td>\n",
              "      <td>73vlQ0JIEPWwZq7HLye2VB</td>\n",
              "      <td>4</td>\n",
              "      <td>world-music</td>\n",
              "      <td>0.198</td>\n",
              "      <td>0.262</td>\n",
              "      <td>5</td>\n",
              "      <td>-18.186</td>\n",
              "      <td>1</td>\n",
              "      <td>0.0412</td>\n",
              "      <td>0.86900</td>\n",
              "      <td>0.867000</td>\n",
              "      <td>0.0840</td>\n",
              "      <td>0.1540</td>\n",
              "      <td>74.055</td>\n",
              "      <td>audio_features</td>\n",
              "      <td>spotify:track:73vlQ0JIEPWwZq7HLye2VB</td>\n",
              "      <td>https://api.spotify.com/v1/tracks/73vlQ0JIEPWw...</td>\n",
              "      <td>https://api.spotify.com/v1/audio-analysis/73vl...</td>\n",
              "      <td>587966</td>\n",
              "      <td>1</td>\n",
              "    </tr>\n",
              "    <tr>\n",
              "      <th>7928</th>\n",
              "      <td>Paul Baloche</td>\n",
              "      <td>Above All</td>\n",
              "      <td>50JS0GLnXO5IMujL7IsiSM</td>\n",
              "      <td>7</td>\n",
              "      <td>world-music</td>\n",
              "      <td>0.373</td>\n",
              "      <td>0.169</td>\n",
              "      <td>9</td>\n",
              "      <td>-12.645</td>\n",
              "      <td>1</td>\n",
              "      <td>0.0355</td>\n",
              "      <td>0.84000</td>\n",
              "      <td>0.000000</td>\n",
              "      <td>0.1050</td>\n",
              "      <td>0.1470</td>\n",
              "      <td>123.139</td>\n",
              "      <td>audio_features</td>\n",
              "      <td>spotify:track:50JS0GLnXO5IMujL7IsiSM</td>\n",
              "      <td>https://api.spotify.com/v1/tracks/50JS0GLnXO5I...</td>\n",
              "      <td>https://api.spotify.com/v1/audio-analysis/50JS...</td>\n",
              "      <td>321782</td>\n",
              "      <td>4</td>\n",
              "    </tr>\n",
              "    <tr>\n",
              "      <th>7929</th>\n",
              "      <td>Paul Baloche</td>\n",
              "      <td>What Can I Do</td>\n",
              "      <td>1MOPrqA3QDwvUBmg5Tz3QE</td>\n",
              "      <td>8</td>\n",
              "      <td>world-music</td>\n",
              "      <td>0.431</td>\n",
              "      <td>0.522</td>\n",
              "      <td>8</td>\n",
              "      <td>-8.970</td>\n",
              "      <td>1</td>\n",
              "      <td>0.0296</td>\n",
              "      <td>0.33900</td>\n",
              "      <td>0.000001</td>\n",
              "      <td>0.1040</td>\n",
              "      <td>0.2730</td>\n",
              "      <td>143.897</td>\n",
              "      <td>audio_features</td>\n",
              "      <td>spotify:track:1MOPrqA3QDwvUBmg5Tz3QE</td>\n",
              "      <td>https://api.spotify.com/v1/tracks/1MOPrqA3QDwv...</td>\n",
              "      <td>https://api.spotify.com/v1/audio-analysis/1MOP...</td>\n",
              "      <td>316658</td>\n",
              "      <td>4</td>\n",
              "    </tr>\n",
              "    <tr>\n",
              "      <th>7930</th>\n",
              "      <td>Paul Baloche</td>\n",
              "      <td>My Hope - Live</td>\n",
              "      <td>0nji3iQpbSwLXyirfMgYfd</td>\n",
              "      <td>4</td>\n",
              "      <td>world-music</td>\n",
              "      <td>0.344</td>\n",
              "      <td>0.680</td>\n",
              "      <td>10</td>\n",
              "      <td>-6.271</td>\n",
              "      <td>1</td>\n",
              "      <td>0.0316</td>\n",
              "      <td>0.04690</td>\n",
              "      <td>0.000001</td>\n",
              "      <td>0.1150</td>\n",
              "      <td>0.3030</td>\n",
              "      <td>167.819</td>\n",
              "      <td>audio_features</td>\n",
              "      <td>spotify:track:0nji3iQpbSwLXyirfMgYfd</td>\n",
              "      <td>https://api.spotify.com/v1/tracks/0nji3iQpbSwL...</td>\n",
              "      <td>https://api.spotify.com/v1/audio-analysis/0nji...</td>\n",
              "      <td>309080</td>\n",
              "      <td>4</td>\n",
              "    </tr>\n",
              "    <tr>\n",
              "      <th>7931</th>\n",
              "      <td>Paul Baloche</td>\n",
              "      <td>Found In You</td>\n",
              "      <td>4Bv2NHFBPJ8iFqUPVG1CmH</td>\n",
              "      <td>4</td>\n",
              "      <td>world-music</td>\n",
              "      <td>0.577</td>\n",
              "      <td>0.787</td>\n",
              "      <td>0</td>\n",
              "      <td>-8.261</td>\n",
              "      <td>1</td>\n",
              "      <td>0.0304</td>\n",
              "      <td>0.00395</td>\n",
              "      <td>0.003910</td>\n",
              "      <td>0.2700</td>\n",
              "      <td>0.3970</td>\n",
              "      <td>123.001</td>\n",
              "      <td>audio_features</td>\n",
              "      <td>spotify:track:4Bv2NHFBPJ8iFqUPVG1CmH</td>\n",
              "      <td>https://api.spotify.com/v1/tracks/4Bv2NHFBPJ8i...</td>\n",
              "      <td>https://api.spotify.com/v1/audio-analysis/4Bv2...</td>\n",
              "      <td>266840</td>\n",
              "      <td>4</td>\n",
              "    </tr>\n",
              "    <tr>\n",
              "      <th>7932</th>\n",
              "      <td>Paul Baloche</td>\n",
              "      <td>The Same Love</td>\n",
              "      <td>5rmILytQP7KHx0DouS2eQl</td>\n",
              "      <td>5</td>\n",
              "      <td>world-music</td>\n",
              "      <td>0.237</td>\n",
              "      <td>0.659</td>\n",
              "      <td>11</td>\n",
              "      <td>-6.449</td>\n",
              "      <td>1</td>\n",
              "      <td>0.0357</td>\n",
              "      <td>0.23300</td>\n",
              "      <td>0.000001</td>\n",
              "      <td>0.0879</td>\n",
              "      <td>0.2290</td>\n",
              "      <td>204.081</td>\n",
              "      <td>audio_features</td>\n",
              "      <td>spotify:track:5rmILytQP7KHx0DouS2eQl</td>\n",
              "      <td>https://api.spotify.com/v1/tracks/5rmILytQP7KH...</td>\n",
              "      <td>https://api.spotify.com/v1/audio-analysis/5rmI...</td>\n",
              "      <td>267640</td>\n",
              "      <td>4</td>\n",
              "    </tr>\n",
              "    <tr>\n",
              "      <th>7933</th>\n",
              "      <td>Paul Baloche</td>\n",
              "      <td>Once For All</td>\n",
              "      <td>5zXuaKv3ZGzhCQDLahUj2C</td>\n",
              "      <td>3</td>\n",
              "      <td>world-music</td>\n",
              "      <td>0.506</td>\n",
              "      <td>0.424</td>\n",
              "      <td>7</td>\n",
              "      <td>-9.360</td>\n",
              "      <td>1</td>\n",
              "      <td>0.0256</td>\n",
              "      <td>0.33100</td>\n",
              "      <td>0.000000</td>\n",
              "      <td>0.0700</td>\n",
              "      <td>0.2310</td>\n",
              "      <td>137.766</td>\n",
              "      <td>audio_features</td>\n",
              "      <td>spotify:track:5zXuaKv3ZGzhCQDLahUj2C</td>\n",
              "      <td>https://api.spotify.com/v1/tracks/5zXuaKv3ZGzh...</td>\n",
              "      <td>https://api.spotify.com/v1/audio-analysis/5zXu...</td>\n",
              "      <td>303587</td>\n",
              "      <td>4</td>\n",
              "    </tr>\n",
              "    <tr>\n",
              "      <th>7934</th>\n",
              "      <td>Jan Jelinek</td>\n",
              "      <td>Do Dekor</td>\n",
              "      <td>5U9WYXi58qRqIKbAxE8Wan</td>\n",
              "      <td>2</td>\n",
              "      <td>world-music</td>\n",
              "      <td>0.381</td>\n",
              "      <td>0.790</td>\n",
              "      <td>7</td>\n",
              "      <td>-13.519</td>\n",
              "      <td>1</td>\n",
              "      <td>0.0638</td>\n",
              "      <td>0.58700</td>\n",
              "      <td>0.896000</td>\n",
              "      <td>0.1040</td>\n",
              "      <td>0.0340</td>\n",
              "      <td>120.181</td>\n",
              "      <td>audio_features</td>\n",
              "      <td>spotify:track:5U9WYXi58qRqIKbAxE8Wan</td>\n",
              "      <td>https://api.spotify.com/v1/tracks/5U9WYXi58qRq...</td>\n",
              "      <td>https://api.spotify.com/v1/audio-analysis/5U9W...</td>\n",
              "      <td>334601</td>\n",
              "      <td>4</td>\n",
              "    </tr>\n",
              "    <tr>\n",
              "      <th>7935</th>\n",
              "      <td>Steve Hauschildt</td>\n",
              "      <td>Horizon of Appearances</td>\n",
              "      <td>6QbqbuuKRGBoEifuqEtAHd</td>\n",
              "      <td>2</td>\n",
              "      <td>world-music</td>\n",
              "      <td>0.174</td>\n",
              "      <td>0.238</td>\n",
              "      <td>0</td>\n",
              "      <td>-16.437</td>\n",
              "      <td>0</td>\n",
              "      <td>0.0388</td>\n",
              "      <td>0.22500</td>\n",
              "      <td>0.854000</td>\n",
              "      <td>0.1100</td>\n",
              "      <td>0.0564</td>\n",
              "      <td>131.924</td>\n",
              "      <td>audio_features</td>\n",
              "      <td>spotify:track:6QbqbuuKRGBoEifuqEtAHd</td>\n",
              "      <td>https://api.spotify.com/v1/tracks/6QbqbuuKRGBo...</td>\n",
              "      <td>https://api.spotify.com/v1/audio-analysis/6Qbq...</td>\n",
              "      <td>393347</td>\n",
              "      <td>4</td>\n",
              "    </tr>\n",
              "    <tr>\n",
              "      <th>7936</th>\n",
              "      <td>Tim Hecker</td>\n",
              "      <td>Brownwedding</td>\n",
              "      <td>1aUKbiR6wyu0U6e8JgKIxl</td>\n",
              "      <td>1</td>\n",
              "      <td>world-music</td>\n",
              "      <td>0.214</td>\n",
              "      <td>0.651</td>\n",
              "      <td>7</td>\n",
              "      <td>-16.323</td>\n",
              "      <td>1</td>\n",
              "      <td>0.0668</td>\n",
              "      <td>0.39300</td>\n",
              "      <td>0.842000</td>\n",
              "      <td>0.1120</td>\n",
              "      <td>0.0574</td>\n",
              "      <td>126.152</td>\n",
              "      <td>audio_features</td>\n",
              "      <td>spotify:track:1aUKbiR6wyu0U6e8JgKIxl</td>\n",
              "      <td>https://api.spotify.com/v1/tracks/1aUKbiR6wyu0...</td>\n",
              "      <td>https://api.spotify.com/v1/audio-analysis/1aUK...</td>\n",
              "      <td>291507</td>\n",
              "      <td>3</td>\n",
              "    </tr>\n",
              "    <tr>\n",
              "      <th>7937</th>\n",
              "      <td>Tim Hecker</td>\n",
              "      <td>Chimeras</td>\n",
              "      <td>21mw7zZLl70dOTLknT36vX</td>\n",
              "      <td>5</td>\n",
              "      <td>world-music</td>\n",
              "      <td>0.144</td>\n",
              "      <td>0.350</td>\n",
              "      <td>1</td>\n",
              "      <td>-14.559</td>\n",
              "      <td>0</td>\n",
              "      <td>0.0400</td>\n",
              "      <td>0.82200</td>\n",
              "      <td>0.897000</td>\n",
              "      <td>0.6070</td>\n",
              "      <td>0.0856</td>\n",
              "      <td>138.857</td>\n",
              "      <td>audio_features</td>\n",
              "      <td>spotify:track:21mw7zZLl70dOTLknT36vX</td>\n",
              "      <td>https://api.spotify.com/v1/tracks/21mw7zZLl70d...</td>\n",
              "      <td>https://api.spotify.com/v1/audio-analysis/21mw...</td>\n",
              "      <td>193707</td>\n",
              "      <td>3</td>\n",
              "    </tr>\n",
              "  </tbody>\n",
              "</table>\n",
              "</div>"
            ],
            "text/plain": [
              "           artist_name  ... time_signature\n",
              "7923       Jan Jelinek  ...              4\n",
              "7924       Jan Jelinek  ...              4\n",
              "7925      Paul Baloche  ...              4\n",
              "7926      Paul Baloche  ...              4\n",
              "7927     Susumu Yokota  ...              1\n",
              "7928      Paul Baloche  ...              4\n",
              "7929      Paul Baloche  ...              4\n",
              "7930      Paul Baloche  ...              4\n",
              "7931      Paul Baloche  ...              4\n",
              "7932      Paul Baloche  ...              4\n",
              "7933      Paul Baloche  ...              4\n",
              "7934       Jan Jelinek  ...              4\n",
              "7935  Steve Hauschildt  ...              4\n",
              "7936        Tim Hecker  ...              3\n",
              "7937        Tim Hecker  ...              3\n",
              "\n",
              "[15 rows x 22 columns]"
            ]
          },
          "metadata": {
            "tags": []
          },
          "execution_count": 233
        }
      ]
    },
    {
      "cell_type": "code",
      "metadata": {
        "id": "L3YtzYT3TX_K",
        "colab_type": "code",
        "outputId": "80f5c8d9-ae42-4363-9657-679df281e913",
        "colab": {
          "base_uri": "https://localhost:8080/"
        }
      },
      "source": [
        "df.info()"
      ],
      "execution_count": 0,
      "outputs": [
        {
          "output_type": "stream",
          "text": [
            "<class 'pandas.core.frame.DataFrame'>\n",
            "Int64Index: 7938 entries, 0 to 7937\n",
            "Data columns (total 22 columns):\n",
            "artist_name         7938 non-null object\n",
            "track_name          7938 non-null object\n",
            "track_id            7938 non-null object\n",
            "popularity          7938 non-null int64\n",
            "genre               7938 non-null object\n",
            "danceability        7938 non-null float64\n",
            "energy              7938 non-null float64\n",
            "key                 7938 non-null int64\n",
            "loudness            7938 non-null float64\n",
            "mode                7938 non-null int64\n",
            "speechiness         7938 non-null float64\n",
            "acousticness        7938 non-null float64\n",
            "instrumentalness    7938 non-null float64\n",
            "liveness            7938 non-null float64\n",
            "valence             7938 non-null float64\n",
            "tempo               7938 non-null float64\n",
            "type                7938 non-null object\n",
            "uri                 7938 non-null object\n",
            "track_href          7938 non-null object\n",
            "analysis_url        7938 non-null object\n",
            "duration_ms         7938 non-null int64\n",
            "time_signature      7938 non-null int64\n",
            "dtypes: float64(9), int64(5), object(8)\n",
            "memory usage: 1.4+ MB\n"
          ],
          "name": "stdout"
        }
      ]
    },
    {
      "cell_type": "markdown",
      "metadata": {
        "id": "Kcl-hCn6TX_N",
        "colab_type": "text"
      },
      "source": [
        "Just in case, checking for any duplicate tracks:"
      ]
    },
    {
      "cell_type": "code",
      "metadata": {
        "id": "kNbEsqSNTX_O",
        "colab_type": "code",
        "outputId": "b45f90aa-b802-4029-9dac-82fe3bfe0855",
        "colab": {
          "base_uri": "https://localhost:8080/"
        }
      },
      "source": [
        "df[df.duplicated(subset=['artist_name','track_name'],keep=False)]"
      ],
      "execution_count": 0,
      "outputs": [
        {
          "output_type": "execute_result",
          "data": {
            "text/html": [
              "<div>\n",
              "<style scoped>\n",
              "    .dataframe tbody tr th:only-of-type {\n",
              "        vertical-align: middle;\n",
              "    }\n",
              "\n",
              "    .dataframe tbody tr th {\n",
              "        vertical-align: top;\n",
              "    }\n",
              "\n",
              "    .dataframe thead th {\n",
              "        text-align: right;\n",
              "    }\n",
              "</style>\n",
              "<table border=\"1\" class=\"dataframe\">\n",
              "  <thead>\n",
              "    <tr style=\"text-align: right;\">\n",
              "      <th></th>\n",
              "      <th>artist_name</th>\n",
              "      <th>track_name</th>\n",
              "      <th>track_id</th>\n",
              "      <th>popularity</th>\n",
              "      <th>genre</th>\n",
              "      <th>danceability</th>\n",
              "      <th>energy</th>\n",
              "      <th>key</th>\n",
              "      <th>loudness</th>\n",
              "      <th>mode</th>\n",
              "      <th>speechiness</th>\n",
              "      <th>acousticness</th>\n",
              "      <th>instrumentalness</th>\n",
              "      <th>liveness</th>\n",
              "      <th>valence</th>\n",
              "      <th>tempo</th>\n",
              "      <th>type</th>\n",
              "      <th>uri</th>\n",
              "      <th>track_href</th>\n",
              "      <th>analysis_url</th>\n",
              "      <th>duration_ms</th>\n",
              "      <th>time_signature</th>\n",
              "    </tr>\n",
              "  </thead>\n",
              "  <tbody>\n",
              "  </tbody>\n",
              "</table>\n",
              "</div>"
            ],
            "text/plain": [
              "Empty DataFrame\n",
              "Columns: [artist_name, track_name, track_id, popularity, genre, danceability, energy, key, loudness, mode, speechiness, acousticness, instrumentalness, liveness, valence, tempo, type, uri, track_href, analysis_url, duration_ms, time_signature]\n",
              "Index: []"
            ]
          },
          "metadata": {
            "tags": []
          },
          "execution_count": 235
        }
      ]
    },
    {
      "cell_type": "markdown",
      "metadata": {
        "id": "34_wkuNSqKAa",
        "colab_type": "text"
      },
      "source": [
        "# Save file to .csv"
      ]
    },
    {
      "cell_type": "markdown",
      "metadata": {
        "id": "KiA_2Y-WTX_R",
        "colab_type": "text"
      },
      "source": [
        "Everything seems to be fine so I will save the dataframe as a .csv file."
      ]
    },
    {
      "cell_type": "code",
      "metadata": {
        "id": "DYJNKHZ_TX_S",
        "colab_type": "code",
        "colab": {}
      },
      "source": [
        "df.to_csv('SpotifyAudioFeatures20200301_genre_001_010.csv')"
      ],
      "execution_count": 0,
      "outputs": []
    }
  ]
}